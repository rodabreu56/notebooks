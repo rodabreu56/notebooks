{
 "cells": [
  {
   "cell_type": "code",
   "execution_count": 1,
   "id": "b73a2c33",
   "metadata": {},
   "outputs": [],
   "source": [
    "import pandas as pd"
   ]
  },
  {
   "cell_type": "code",
   "execution_count": 19,
   "id": "a584e3eb",
   "metadata": {},
   "outputs": [],
   "source": [
    "df1 = pd.read_csv('/Users/rodrigoabreu/Documents/Teddy_thing/Alliant CU 4.29.2022 - Clear Capital.csv')"
   ]
  },
  {
   "cell_type": "code",
   "execution_count": 20,
   "id": "147e5dc1",
   "metadata": {},
   "outputs": [],
   "source": [
    "df2 = pd.read_csv('/Users/rodrigoabreu/Documents/Teddy_thing/Cape & PCRA Data 10.41.03 AM.csv')"
   ]
  },
  {
   "cell_type": "code",
   "execution_count": 21,
   "id": "87598c50",
   "metadata": {},
   "outputs": [],
   "source": [
    "df3 = pd.read_csv('/Users/rodrigoabreu/Documents/Teddy_thing/Figure_CAPE_PCR_Data.csv')"
   ]
  },
  {
   "cell_type": "code",
   "execution_count": 22,
   "id": "4409a0c6",
   "metadata": {},
   "outputs": [],
   "source": [
    "target_df = pd.read_csv('/Users/rodrigoabreu/Documents/Teddy_thing/Figure_CAPE_PCR_Data_AllTrades_ECR_Comparison.csv')"
   ]
  },
  {
   "cell_type": "code",
   "execution_count": 23,
   "id": "e93e96c5",
   "metadata": {},
   "outputs": [],
   "source": [
    "from functools import reduce"
   ]
  },
  {
   "cell_type": "code",
   "execution_count": 24,
   "id": "636ca237",
   "metadata": {},
   "outputs": [
    {
     "name": "stderr",
     "output_type": "stream",
     "text": [
      "/var/folders/cl/p8lq2r2941d6l5mkjz623stm0000gn/T/ipykernel_20627/1799307834.py:2: FutureWarning: Passing 'suffixes' which cause duplicate columns {'CITY_x', 'ZIP_x', 'STATE_x'} in the result is deprecated and will raise a MergeError in a future version.\n",
      "  pd.merge(left , right,\n"
     ]
    }
   ],
   "source": [
    "data_merge = reduce(lambda left, right:     \n",
    "                     pd.merge(left , right,\n",
    "                              on = [\"ADDRESS\"],\n",
    "                              how = \"outer\"),\n",
    "                     [target_df, df3, df2, df1])"
   ]
  },
  {
   "cell_type": "code",
   "execution_count": 25,
   "id": "fe554beb",
   "metadata": {},
   "outputs": [
    {
     "data": {
      "text/html": [
       "<div><div id=c9a6a40f-5bf8-46f9-b185-cdf9c1a91dad style=\"display:none; background-color:#9D6CFF; color:white; width:200px; height:30px; padding-left:5px; border-radius:4px; flex-direction:row; justify-content:space-around; align-items:center;\" onmouseover=\"this.style.backgroundColor='#BA9BF8'\" onmouseout=\"this.style.backgroundColor='#9D6CFF'\" onclick=\"window.commands?.execute('create-mitosheet-from-dataframe-output');\">See Full Dataframe in Mito</div> <script> if (window.commands?.hasCommand('create-mitosheet-from-dataframe-output')) document.getElementById('c9a6a40f-5bf8-46f9-b185-cdf9c1a91dad').style.display = 'flex' </script> <table border=\"1\" class=\"dataframe\">\n",
       "  <thead>\n",
       "    <tr style=\"text-align: right;\">\n",
       "      <th></th>\n",
       "      <th>Figure Trade Num_x</th>\n",
       "      <th>ADDRESS</th>\n",
       "      <th>CITY_x</th>\n",
       "      <th>STATE_x</th>\n",
       "      <th>ZIP_x</th>\n",
       "      <th>Date</th>\n",
       "      <th>cape_exterior_condition_rating_v1.1</th>\n",
       "      <th>cape_exterior_condition_rating_v2</th>\n",
       "      <th>Figure Trade Num_y</th>\n",
       "      <th>CITY_y</th>\n",
       "      <th>...</th>\n",
       "      <th>LANDSCAPE</th>\n",
       "      <th>POOL/SPA</th>\n",
       "      <th>DECK/PATIO</th>\n",
       "      <th>DRIVEWAY</th>\n",
       "      <th>OTHER</th>\n",
       "      <th>ESTIMATED_REPAIR_COSTS</th>\n",
       "      <th>DATE_COMPLETED</th>\n",
       "      <th>DATE_ORDERED</th>\n",
       "      <th>BROKER_LICENSE_NO</th>\n",
       "      <th>PDF</th>\n",
       "    </tr>\n",
       "  </thead>\n",
       "  <tbody>\n",
       "    <tr>\n",
       "      <th>1956</th>\n",
       "      <td>Trade 3</td>\n",
       "      <td>34398 N BARKA TRL</td>\n",
       "      <td>SAN TAN VALLEY</td>\n",
       "      <td>AZ</td>\n",
       "      <td>85143.0</td>\n",
       "      <td>2022-04-24</td>\n",
       "      <td>0.0</td>\n",
       "      <td>2</td>\n",
       "      <td>Trade 3</td>\n",
       "      <td>SAN TAN VALLEY</td>\n",
       "      <td>...</td>\n",
       "      <td>$0.00</td>\n",
       "      <td>$0.00</td>\n",
       "      <td>$0.00</td>\n",
       "      <td>$0.00</td>\n",
       "      <td>$0.00</td>\n",
       "      <td>$0</td>\n",
       "      <td>4/24/2022 11:34AM</td>\n",
       "      <td>4/22/22</td>\n",
       "      <td>BR522060000</td>\n",
       "      <td>https://secure.clearcapital.com/user_data/customer/pdf_archive/D74930A3-D42C-36EE-98120F77BFF52BC0/1-22103-506.pdf</td>\n",
       "    </tr>\n",
       "    <tr>\n",
       "      <th>1957</th>\n",
       "      <td>Trade 3</td>\n",
       "      <td>230 SW ROXBURY ST</td>\n",
       "      <td>SEATTLE</td>\n",
       "      <td>WA</td>\n",
       "      <td>98106.0</td>\n",
       "      <td>2022-04-23</td>\n",
       "      <td>2.0</td>\n",
       "      <td>1</td>\n",
       "      <td>Trade 3</td>\n",
       "      <td>SEATTLE</td>\n",
       "      <td>...</td>\n",
       "      <td>$0.00</td>\n",
       "      <td>$0.00</td>\n",
       "      <td>$0.00</td>\n",
       "      <td>$0.00</td>\n",
       "      <td>$0.00</td>\n",
       "      <td>$0</td>\n",
       "      <td>4/23/2022 10:25AM</td>\n",
       "      <td>4/22/22</td>\n",
       "      <td>49560</td>\n",
       "      <td>https://secure.clearcapital.com/user_data/customer/pdf_archive/D74930A3-D42C-36EE-98120F77BFF52BC0/1-22103-666.pdf</td>\n",
       "    </tr>\n",
       "    <tr>\n",
       "      <th>1958</th>\n",
       "      <td>Trade 3</td>\n",
       "      <td>7002 127TH PL SE</td>\n",
       "      <td>NEWCASTLE</td>\n",
       "      <td>WA</td>\n",
       "      <td>98056.0</td>\n",
       "      <td>2022-04-23</td>\n",
       "      <td>-1.0</td>\n",
       "      <td>0</td>\n",
       "      <td>Trade 3</td>\n",
       "      <td>NEWCASTLE</td>\n",
       "      <td>...</td>\n",
       "      <td>$0.00</td>\n",
       "      <td>$0.00</td>\n",
       "      <td>$0.00</td>\n",
       "      <td>$0.00</td>\n",
       "      <td>$0.00</td>\n",
       "      <td>$0</td>\n",
       "      <td>4/23/2022 12:45PM</td>\n",
       "      <td>4/22/22</td>\n",
       "      <td>49560</td>\n",
       "      <td>https://secure.clearcapital.com/user_data/customer/pdf_archive/D74930A3-D42C-36EE-98120F77BFF52BC0/1-22104-247.pdf</td>\n",
       "    </tr>\n",
       "    <tr>\n",
       "      <th>1959</th>\n",
       "      <td>Trade 3</td>\n",
       "      <td>10501 NELAND ST</td>\n",
       "      <td>RALEIGH</td>\n",
       "      <td>NC</td>\n",
       "      <td>27614.0</td>\n",
       "      <td>2022-04-22</td>\n",
       "      <td>1.0</td>\n",
       "      <td>1</td>\n",
       "      <td>Trade 3</td>\n",
       "      <td>RALEIGH</td>\n",
       "      <td>...</td>\n",
       "      <td>$0.00</td>\n",
       "      <td>$0.00</td>\n",
       "      <td>$0.00</td>\n",
       "      <td>$0.00</td>\n",
       "      <td>$0.00</td>\n",
       "      <td>$0</td>\n",
       "      <td>4/22/2022 9:48AM</td>\n",
       "      <td>4/22/22</td>\n",
       "      <td>252172</td>\n",
       "      <td>https://secure.clearcapital.com/user_data/customer/pdf_archive/D74930A3-D42C-36EE-98120F77BFF52BC0/1-22106-1131.pdf</td>\n",
       "    </tr>\n",
       "    <tr>\n",
       "      <th>1960</th>\n",
       "      <td>NaN</td>\n",
       "      <td>826 WHITE CROW ST</td>\n",
       "      <td>NaN</td>\n",
       "      <td>NaN</td>\n",
       "      <td>NaN</td>\n",
       "      <td>NaN</td>\n",
       "      <td>NaN</td>\n",
       "      <td>NaN</td>\n",
       "      <td>NaN</td>\n",
       "      <td>NaN</td>\n",
       "      <td>...</td>\n",
       "      <td>NaN</td>\n",
       "      <td>NaN</td>\n",
       "      <td>NaN</td>\n",
       "      <td>NaN</td>\n",
       "      <td>NaN</td>\n",
       "      <td>NaN</td>\n",
       "      <td>NaN</td>\n",
       "      <td>NaN</td>\n",
       "      <td>NaN</td>\n",
       "      <td>NaN</td>\n",
       "    </tr>\n",
       "  </tbody>\n",
       "</table></div>"
      ],
      "text/plain": [
       "     Figure Trade Num_x            ADDRESS          CITY_x STATE_x    ZIP_x  \\\n",
       "1956            Trade 3  34398 N BARKA TRL  SAN TAN VALLEY      AZ  85143.0   \n",
       "1957            Trade 3  230 SW ROXBURY ST         SEATTLE      WA  98106.0   \n",
       "1958            Trade 3   7002 127TH PL SE       NEWCASTLE      WA  98056.0   \n",
       "1959            Trade 3    10501 NELAND ST         RALEIGH      NC  27614.0   \n",
       "1960                NaN  826 WHITE CROW ST             NaN     NaN      NaN   \n",
       "\n",
       "            Date  cape_exterior_condition_rating_v1.1  \\\n",
       "1956  2022-04-24                                  0.0   \n",
       "1957  2022-04-23                                  2.0   \n",
       "1958  2022-04-23                                 -1.0   \n",
       "1959  2022-04-22                                  1.0   \n",
       "1960         NaN                                  NaN   \n",
       "\n",
       "     cape_exterior_condition_rating_v2 Figure Trade Num_y          CITY_y  \\\n",
       "1956                                 2            Trade 3  SAN TAN VALLEY   \n",
       "1957                                 1            Trade 3         SEATTLE   \n",
       "1958                                 0            Trade 3       NEWCASTLE   \n",
       "1959                                 1            Trade 3         RALEIGH   \n",
       "1960                               NaN                NaN             NaN   \n",
       "\n",
       "      ... LANDSCAPE  POOL/SPA DECK/PATIO DRIVEWAY OTHER                      \\\n",
       "1956  ...    $0.00     $0.00      $0.00    $0.00                     $0.00    \n",
       "1957  ...    $0.00     $0.00      $0.00    $0.00                     $0.00    \n",
       "1958  ...    $0.00     $0.00      $0.00    $0.00                     $0.00    \n",
       "1959  ...    $0.00     $0.00      $0.00    $0.00                     $0.00    \n",
       "1960  ...       NaN       NaN        NaN      NaN                       NaN   \n",
       "\n",
       "      ESTIMATED_REPAIR_COSTS     DATE_COMPLETED  DATE_ORDERED  \\\n",
       "1956                     $0   4/24/2022 11:34AM       4/22/22   \n",
       "1957                     $0   4/23/2022 10:25AM       4/22/22   \n",
       "1958                     $0   4/23/2022 12:45PM       4/22/22   \n",
       "1959                     $0    4/22/2022 9:48AM       4/22/22   \n",
       "1960                     NaN                NaN           NaN   \n",
       "\n",
       "      BROKER_LICENSE_NO                                                PDF  \n",
       "1956        BR522060000  https://secure.clearcapital.com/user_data/cust...  \n",
       "1957              49560  https://secure.clearcapital.com/user_data/cust...  \n",
       "1958              49560  https://secure.clearcapital.com/user_data/cust...  \n",
       "1959             252172  https://secure.clearcapital.com/user_data/cust...  \n",
       "1960                NaN                                                NaN  \n",
       "\n",
       "[5 rows x 172 columns]"
      ]
     },
     "execution_count": 25,
     "metadata": {},
     "output_type": "execute_result"
    }
   ],
   "source": [
    "data_merge.tail(5)"
   ]
  },
  {
   "cell_type": "code",
   "execution_count": 26,
   "id": "b4445805",
   "metadata": {},
   "outputs": [
    {
     "data": {
      "text/plain": [
       "(712, 44)"
      ]
     },
     "execution_count": 26,
     "metadata": {},
     "output_type": "execute_result"
    }
   ],
   "source": [
    "df1.shape"
   ]
  },
  {
   "cell_type": "code",
   "execution_count": 27,
   "id": "8b721ef6",
   "metadata": {},
   "outputs": [
    {
     "data": {
      "text/plain": [
       "(600, 118)"
      ]
     },
     "execution_count": 27,
     "metadata": {},
     "output_type": "execute_result"
    }
   ],
   "source": [
    "df2.shape"
   ]
  },
  {
   "cell_type": "code",
   "execution_count": 28,
   "id": "fc89b425",
   "metadata": {},
   "outputs": [
    {
     "data": {
      "text/plain": [
       "(1958, 5)"
      ]
     },
     "execution_count": 28,
     "metadata": {},
     "output_type": "execute_result"
    }
   ],
   "source": [
    "df3.shape"
   ]
  },
  {
   "cell_type": "code",
   "execution_count": 29,
   "id": "35020cd4",
   "metadata": {},
   "outputs": [
    {
     "data": {
      "text/plain": [
       "(1961, 172)"
      ]
     },
     "execution_count": 29,
     "metadata": {},
     "output_type": "execute_result"
    }
   ],
   "source": [
    "data_merge.shape"
   ]
  },
  {
   "cell_type": "code",
   "execution_count": 30,
   "id": "544c611f",
   "metadata": {},
   "outputs": [],
   "source": [
    "data_merge.to_csv('/Users/rodrigoabreu/Documents/Teddy_thing/merged_file.csv')"
   ]
  },
  {
   "cell_type": "code",
   "execution_count": null,
   "id": "f79b4654",
   "metadata": {},
   "outputs": [],
   "source": []
  }
 ],
 "metadata": {
  "kernelspec": {
   "display_name": "Python 3 (ipykernel)",
   "language": "python",
   "name": "python3"
  },
  "language_info": {
   "codemirror_mode": {
    "name": "ipython",
    "version": 3
   },
   "file_extension": ".py",
   "mimetype": "text/x-python",
   "name": "python",
   "nbconvert_exporter": "python",
   "pygments_lexer": "ipython3",
   "version": "3.10.4"
  }
 },
 "nbformat": 4,
 "nbformat_minor": 5
}
